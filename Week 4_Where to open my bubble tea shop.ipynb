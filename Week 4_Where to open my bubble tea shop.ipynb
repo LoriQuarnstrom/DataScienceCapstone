{
    "cells": [
        {
            "cell_type": "markdown",
            "metadata": {
                "collapsed": true
            },
            "source": "## Where will I open my Austin bubble tea shop?"
        },
        {
            "cell_type": "markdown",
            "metadata": {},
            "source": "### Description & background of the problem\n\nI would like to create a model that will help me decide where to open a new business.  To my husband's dismay, I have selected the bubble (or \"boba\") tea shop as my example.  In addition to my child-like love of those giant tapioca balls (and the pleasure of slurping them up through a giant straw on a hot day), I believe this type of business demonstrates strong correlations between type of business and local attractions.  If I can build this model to find accurate relationships between businesses and attractions, I can explore opportunities for a variety of business types in other cities.\n\nI will begin by examining existing boba shops in a large, cosmopolitan city.  I will identify the other businesses and attractions in the locations where existing shops appear.  Once I have a model defined, I will apply it to another city and identify locations that have similar attractions.  Finally, I will compare my findings with existing boba shops in the new city.  This will validate my model, and help find one or two good locations where no boba shops are open yet.\n\nI have selected Austin, Texas, as my new city.  Why Austin?  The city is growing rapidly.  In addition to its existing cosmopolitan features, including universities, the Texas state capitol, a vibrant & diverse culture, and a thriving business community, Austin has space to grow.  This differentiates it from other cities where real estate is already in use.  Large corporations, such as Apple and Tesla, are building large new facilities and campuses in suburban Austin. New neighborhoods are being built along the Interstate 35 corridor, and in nearly every direction outside the city center.\n\nThe audience for this business will be people who are participating in leisure activities.  These include diners for lunch and dinner, evening strollers, shoppers, and event-goers.  Austin has the attraction of being warm for much of the year, with many music clubs, multi-day events, and thirsty crowds."
        },
        {
            "cell_type": "markdown",
            "metadata": {},
            "source": "### Data to be used in the analysis\n\nSince I am new to Data Science, and I don't want to make this harder than it needs to be, I will use the New York analysis to define neighborhoods.  I will do something similar for Austin.  Neighborhood and zip code data appears to be readily available on the Internet.  It has been interesting to see how many real-estate agencies have this information available prominently on their websites.  I will find the most complete site from which to scrape this information.\n\nFoursquare data will be used to locate existing bubble tea shops, as well as other business and attractions, in the boroughs of New York.\n\nI will also use Foursquare check-in data to try to model foot traffic in New York and Austin.  Since bubble tea is a \"recreational\" product, I expect to find it in locations that have complimentary leisure attractions, such as restaurant streets, parks, schools, and shopping centers.  \n\nSince this is a business problem, I will also step back and look at the community as a whole.  For instance, Austin has a lot of festivals and music events, as well as South by Southwest and Formula 1 racing at Circuit of the Americas.  Some of these events occur in venues that don't have permanent facilities, but have high demand during multi-day events.  Corporate campuses may also have lunchtime demand for novelty beverages, and provide a weekly business stream.  Discoveries like these could make a variant of the business type, such as a mobile boba truck, an interesting model to explore. "
        },
        {
            "cell_type": "code",
            "execution_count": null,
            "metadata": {},
            "outputs": [],
            "source": ""
        }
    ],
    "metadata": {
        "kernelspec": {
            "display_name": "Python 3.7",
            "language": "python",
            "name": "python3"
        },
        "language_info": {
            "codemirror_mode": {
                "name": "ipython",
                "version": 3
            },
            "file_extension": ".py",
            "mimetype": "text/x-python",
            "name": "python",
            "nbconvert_exporter": "python",
            "pygments_lexer": "ipython3",
            "version": "3.7.9"
        }
    },
    "nbformat": 4,
    "nbformat_minor": 1
}