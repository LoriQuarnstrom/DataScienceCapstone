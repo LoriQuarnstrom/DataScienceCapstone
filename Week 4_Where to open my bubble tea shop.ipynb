{
    "cells": [
        {
            "cell_type": "markdown",
            "metadata": {
                "collapsed": true
            },
            "source": "## Where will I open my Austin bubble tea shop?"
        },
        {
            "cell_type": "markdown",
            "metadata": {},
            "source": "### Description of the problem"
        },
        {
            "cell_type": "markdown",
            "metadata": {},
            "source": "Discover where bubble tea shops are in a cosmopolitan city like New York, as well as a diverse city with more cars, like Miami or Sacramento\nLook at other attractions in the area, testing the theory that bubble tea shops are in places that get a lot of foot traffic\nDecide where to open a bubble tea shop in Austin, which has a dense downtown, walkable neighborhoods, growing neighborhoods, and lots of cars.\n\n\n(or choose a walkable city from this article:  https://www.prnewswire.com/news-releases/redfin-ranks-the-most-walkable-us-cities-of-2020-301001267.html)\n\n"
        },
        {
            "cell_type": "markdown",
            "metadata": {},
            "source": "### Background"
        },
        {
            "cell_type": "markdown",
            "metadata": {},
            "source": "Walkability is an important factor to consider when moving to a city, or choosing where to work or spend leisure hours.  \n\nI expect to find that bubble tea shops appear in areas with high foot traffic.  Boba shops often sell multiple types of snacks, such as coffee and ice cream.  They also appear in areas that have a high density of restaurants."
        },
        {
            "cell_type": "markdown",
            "metadata": {},
            "source": "A description of the data and how it will be used to solve the problem\n\nSegment neighborhoods and look for existing bubble tea shops (BTShops).\nLook at venue types for variants, e.g. Bubble Tea, Boba, Coffe & Ice Cream, to decide which venue types to search & cluster\nLook at foot traffic using checkin counts and traffic patterns\nUse DBSCAN to find densities of bubble tea shops?  Or just look at neighborhoods?\nLook at what's in each neighborhood -- parks, schools, shopping centers or commercial streets.  What correlates with bubble-tea neighborhoods?\n\nDon't worry about demographics.  Just look at foot traffic, or whatever user demographic data is available from Foursquare.  Seems important to know who goes to BTShops.  Use data to look for similar places in Austin neighborhoods.\n\n"
        }
    ],
    "metadata": {
        "kernelspec": {
            "display_name": "Python 3.7",
            "language": "python",
            "name": "python3"
        },
        "language_info": {
            "codemirror_mode": {
                "name": "ipython",
                "version": 3
            },
            "file_extension": ".py",
            "mimetype": "text/x-python",
            "name": "python",
            "nbconvert_exporter": "python",
            "pygments_lexer": "ipython3",
            "version": "3.7.9"
        }
    },
    "nbformat": 4,
    "nbformat_minor": 1
}